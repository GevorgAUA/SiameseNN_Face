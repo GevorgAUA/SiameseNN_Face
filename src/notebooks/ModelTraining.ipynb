{
 "cells": [
  {
   "cell_type": "code",
   "execution_count": 2,
   "id": "initial_id",
   "metadata": {
    "collapsed": true,
    "ExecuteTime": {
     "end_time": "2024-11-23T17:53:52.707772800Z",
     "start_time": "2024-11-23T17:53:02.182506700Z"
    }
   },
   "outputs": [
    {
     "name": "stdout",
     "output_type": "stream",
     "text": [
      "Training on dummy data...\n",
      "Epoch 1: Loss = 3.8385\n",
      "Epoch 2: Loss = 0.2934\n",
      "\n",
      "Testing predictions on dummy data...\n",
      "Distances: [0.9118988 0.5342101], Ground Truth: [[1.]\n",
      " [0.]]\n"
     ]
    }
   ],
   "source": [
    "import os\n",
    "import torch\n",
    "from torch.utils.data import DataLoader, Dataset\n",
    "from torchvision import transforms\n",
    "import numpy as np\n",
    "from PIL import Image\n",
    "from random import randint, choice\n",
    "from src.models.base_network import BaseNetwork\n",
    "from src.models.siamese_network import SiameseNetwork\n",
    "from src.models.loss_functions import ContrastiveLoss\n",
    "from src.training.trainer import Trainer\n",
    "from src.evaluation.metrics import compute_accuracy\n",
    "from src.training.data_loader import SiameseDataset\n",
    "\n",
    "def create_dummy_data(num_classes=3, num_images_per_class=5, image_size=(224, 224)):\n",
    "    \"\"\"\n",
    "    Create a small dataset of random images grouped by classes.\n",
    "    \"\"\"\n",
    "    dataset_dir = \"dummy_dataset\"\n",
    "    os.makedirs(dataset_dir, exist_ok=True)\n",
    "    image_paths = []\n",
    "    labels = []\n",
    "\n",
    "    for class_id in range(num_classes):\n",
    "        class_dir = os.path.join(dataset_dir, f\"class_{class_id}\")\n",
    "        os.makedirs(class_dir, exist_ok=True)\n",
    "\n",
    "        for img_id in range(num_images_per_class):\n",
    "            img_path = os.path.join(class_dir, f\"img_{img_id}.jpg\")\n",
    "            image = np.random.randint(0, 255, (image_size[0], image_size[1], 3), dtype=np.uint8)\n",
    "            Image.fromarray(image).save(img_path)\n",
    "            image_paths.append(img_path)\n",
    "            labels.append(class_id)\n",
    "\n",
    "    return image_paths, labels\n",
    "\n",
    "image_paths, labels = create_dummy_data()\n",
    "\n",
    "transform = transforms.Compose([\n",
    "    transforms.ToTensor()\n",
    "])\n",
    "\n",
    "dummy_dataset = SiameseDataset(image_paths, labels, transform=transform)\n",
    "dummy_loader = DataLoader(dummy_dataset, batch_size=2, shuffle=True)\n",
    "\n",
    "device = \"cuda\" if torch.cuda.is_available() else \"cpu\"\n",
    "base_network = BaseNetwork()\n",
    "siamese_model = SiameseNetwork(base_network).to(device)\n",
    "criterion = ContrastiveLoss(margin=1.0)\n",
    "optimizer = torch.optim.Adam(siamese_model.parameters(), lr=0.001)\n",
    "\n",
    "print(\"Training on dummy data...\")\n",
    "for epoch in range(2):  # Minimal training: 2 epochs\n",
    "    siamese_model.train()\n",
    "    epoch_loss = 0\n",
    "\n",
    "    for img1, img2, label in dummy_loader:\n",
    "        img1, img2, label = img1.to(device), img2.to(device), label.to(device)\n",
    "\n",
    "        # Forward pass\n",
    "        embedding1, embedding2 = siamese_model(img1, img2)\n",
    "        distances = siamese_model.compute_distance(embedding1, embedding2)\n",
    "        loss = criterion(distances, label)\n",
    "\n",
    "        # Backward pass\n",
    "        optimizer.zero_grad()\n",
    "        loss.backward()\n",
    "        optimizer.step()\n",
    "\n",
    "        epoch_loss += loss.item()\n",
    "\n",
    "    print(f\"Epoch {epoch + 1}: Loss = {epoch_loss / len(dummy_loader):.4f}\")\n",
    "\n",
    "print(\"\\nTesting predictions on dummy data...\")\n",
    "siamese_model.eval()\n",
    "with torch.no_grad():\n",
    "    for img1, img2, label in dummy_loader:\n",
    "        img1, img2 = img1.to(device), img2.to(device)\n",
    "        embedding1, embedding2 = siamese_model(img1, img2)\n",
    "        distances = siamese_model.compute_distance(embedding1, embedding2)\n",
    "\n",
    "        print(f\"Distances: {distances.cpu().numpy()}, Ground Truth: {label.numpy()}\")\n",
    "        break  # Predict on a single batch\n"
   ]
  }
 ],
 "metadata": {
  "kernelspec": {
   "display_name": "Python 3",
   "language": "python",
   "name": "python3"
  },
  "language_info": {
   "codemirror_mode": {
    "name": "ipython",
    "version": 2
   },
   "file_extension": ".py",
   "mimetype": "text/x-python",
   "name": "python",
   "nbconvert_exporter": "python",
   "pygments_lexer": "ipython2",
   "version": "2.7.6"
  }
 },
 "nbformat": 4,
 "nbformat_minor": 5
}
